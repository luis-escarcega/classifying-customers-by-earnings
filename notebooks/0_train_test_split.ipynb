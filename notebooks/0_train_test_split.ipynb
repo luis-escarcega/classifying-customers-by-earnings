{
 "cells": [
  {
   "cell_type": "markdown",
   "id": "f09491bf-b699-4d41-a474-212cbd147800",
   "metadata": {},
   "source": [
    "# Train test partition"
   ]
  },
  {
   "cell_type": "markdown",
   "id": "b3b1e24b-1658-4148-abad-1b389410b00e",
   "metadata": {},
   "source": [
    "For this problem we will assume that we are interested in those individuals who earn more than $50k (e.g., to offer them loans). We will refer to these as the positive class. The remainder we will refer to as the negative class.\n",
    "\n",
    "Before starting to explore the database, it is necessary to split the data into training and test sets. In this problem we will not use a validation (also known as development) set, which is necessary to obtain unbiased estimates of the performance of various models. Instead, we will use cross-validation for the latter.\n",
    "\n",
    "Throughout the problem we will assume that the records come from a random sample, i.e., they are independent and identically distributed. "
   ]
  },
  {
   "cell_type": "code",
   "execution_count": 1,
   "id": "b04918ae-7b5b-4627-95f9-e2ddf4a225c5",
   "metadata": {},
   "outputs": [],
   "source": [
    "%load_ext autoreload\n",
    "%autoreload 2"
   ]
  },
  {
   "cell_type": "markdown",
   "id": "07cc6650-b28a-4a3f-a130-40a9852d81fd",
   "metadata": {},
   "source": [
    "## Dependencies"
   ]
  },
  {
   "cell_type": "code",
   "execution_count": 2,
   "id": "649cb6ed-8b70-4ca3-8e7b-c46f9cbc3373",
   "metadata": {},
   "outputs": [],
   "source": [
    "import pandas as pd\n",
    "import numpy as np\n",
    "from sklearn.model_selection import train_test_split\n",
    "import sys\n",
    "\n",
    "sys.path.append('../')\n",
    "from src.constants import *\n",
    "from src.utils import save_information"
   ]
  },
  {
   "cell_type": "markdown",
   "id": "da64d8bf-3e7c-4ca7-bd92-15f9885be768",
   "metadata": {},
   "source": [
    "## Reading Table"
   ]
  },
  {
   "cell_type": "code",
   "execution_count": 3,
   "id": "4698f72d-5bd0-4beb-96ad-d09d9670ae28",
   "metadata": {},
   "outputs": [
    {
     "name": "stdout",
     "output_type": "stream",
     "text": [
      "Number of rows: 32561.\n",
      "Number of individuals earning over $50k: 7841.\n",
      "Percentage of individuals earning over $50k:  24.08%.\n"
     ]
    }
   ],
   "source": [
    "df = pd.read_excel(ORIGINAL_DATASET_PATH, sheet_name=SHEET_NAME)\n",
    "\n",
    "def format_columns(df):\n",
    "    columns = df.columns.tolist()\n",
    "    formatted_columns = [col.lower().strip().replace(\" \", \"_\") for col in columns]\n",
    "    df.columns = formatted_columns\n",
    "\n",
    "format_columns(df)\n",
    "\n",
    "number = (df[ORIGINAL_TARGET] == POSITIVE_CLASS).sum()\n",
    "percentage = (df[ORIGINAL_TARGET] == POSITIVE_CLASS).mean() * 100\n",
    "\n",
    "print(f\"Number of rows: {len(df)}.\")\n",
    "print(f\"Number of individuals earning over $50k: {number}.\")\n",
    "print(f\"Percentage of individuals earning over $50k: {percentage : .2f}%.\")"
   ]
  },
  {
   "cell_type": "markdown",
   "id": "47c91107-eeb6-4257-9da1-cd47cea7bf66",
   "metadata": {},
   "source": [
    "## Dataset split"
   ]
  },
  {
   "cell_type": "markdown",
   "id": "6c35afea-eab6-4b45-9388-98a2f9f1c701",
   "metadata": {},
   "source": [
    "Given that the number of observations in the sample is 32,561, we will be using a 10% test set, since 3,000 records are sufficient to estimate the performance of a model in a population. Since the total number of records in the positive class is not a small number or a small percentage, we will not take the split stratifying based on the target column."
   ]
  },
  {
   "cell_type": "code",
   "execution_count": 4,
   "id": "1f8391a8-20d4-4afd-9d0e-94551e8b211d",
   "metadata": {},
   "outputs": [],
   "source": [
    "X = df.drop(columns=ORIGINAL_TARGET)\n",
    "y = df[ORIGINAL_TARGET].values\n",
    "\n",
    "X_train, X_test, y_train, y_test = train_test_split(\n",
    "    X, y, test_size=0.10, random_state=SEED)"
   ]
  },
  {
   "cell_type": "code",
   "execution_count": 5,
   "id": "7ac7eab8-d8aa-4fb4-a2c6-d0720e1d65e6",
   "metadata": {},
   "outputs": [
    {
     "name": "stdout",
     "output_type": "stream",
     "text": [
      "Size of X_train: 29304\n",
      "Size of y_train: 29304\n",
      "\n",
      "Size of X_test: 3257\n",
      "Size of y_test: 3257\n"
     ]
    }
   ],
   "source": [
    "print(f\"Size of X_train: {len(X_train)}\")\n",
    "print(f\"Size of y_train: {len(y_train)}\\n\")\n",
    "print(f\"Size of X_test: {len(X_test)}\")\n",
    "print(f\"Size of y_test: {len(X_test)}\")"
   ]
  },
  {
   "cell_type": "markdown",
   "id": "fa94beba-a73d-4643-84f5-f0f3b463cd31",
   "metadata": {},
   "source": [
    "## Saving information"
   ]
  },
  {
   "cell_type": "code",
   "execution_count": 6,
   "id": "2c46aedd-8d87-4be1-a33b-ec11b811dda5",
   "metadata": {},
   "outputs": [],
   "source": [
    "save_information(X_train, y_train, ORIGINAL_TARGET, TRAIN_DATASET_PATH)\n",
    "save_information(X_test, y_test, ORIGINAL_TARGET, TEST_DATASET_PATH)"
   ]
  }
 ],
 "metadata": {
  "kernelspec": {
   "display_name": "Python 3 (ipykernel)",
   "language": "python",
   "name": "python3"
  },
  "language_info": {
   "codemirror_mode": {
    "name": "ipython",
    "version": 3
   },
   "file_extension": ".py",
   "mimetype": "text/x-python",
   "name": "python",
   "nbconvert_exporter": "python",
   "pygments_lexer": "ipython3",
   "version": "3.12.1"
  }
 },
 "nbformat": 4,
 "nbformat_minor": 5
}
