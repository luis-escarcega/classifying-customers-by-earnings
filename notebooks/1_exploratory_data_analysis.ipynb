{
 "cells": [
  {
   "cell_type": "markdown",
   "id": "75d7295e-ab9d-4789-a04e-6e3c6b07d98c",
   "metadata": {},
   "source": [
    "# Exploratory data analysis"
   ]
  },
  {
   "cell_type": "code",
   "execution_count": 1,
   "id": "c73df145-308a-4e1c-b850-0bd85f9aa0cb",
   "metadata": {},
   "outputs": [],
   "source": [
    "%load_ext autoreload\n",
    "%autoreload 2"
   ]
  },
  {
   "cell_type": "markdown",
   "id": "8eb0bd1e-1877-49b8-a6db-844ec28a6811",
   "metadata": {},
   "source": [
    "## Dependencies"
   ]
  },
  {
   "cell_type": "code",
   "execution_count": null,
   "id": "8595694b-9d07-4c52-89c3-af7cadb530b7",
   "metadata": {},
   "outputs": [],
   "source": [
    "import pandas as pd\n",
    "import numpy as np\n",
    "import sys\n",
    "\n",
    "sys.path.append('../')\n",
    "from src.constants import *"
   ]
  },
  {
   "cell_type": "code",
   "execution_count": null,
   "id": "5920e7ca-6bb4-44f5-9155-22b4a30d747f",
   "metadata": {},
   "outputs": [],
   "source": []
  },
  {
   "cell_type": "code",
   "execution_count": null,
   "id": "818d2227-62f0-4c14-a7d7-2a5f34ebaf63",
   "metadata": {},
   "outputs": [],
   "source": []
  },
  {
   "cell_type": "code",
   "execution_count": null,
   "id": "a3138afe-3a7a-4f67-b2b4-d613bf63c44d",
   "metadata": {},
   "outputs": [],
   "source": []
  },
  {
   "cell_type": "code",
   "execution_count": null,
   "id": "6978bd10-056c-4eb0-9e37-565578aed0bb",
   "metadata": {},
   "outputs": [],
   "source": []
  },
  {
   "cell_type": "code",
   "execution_count": null,
   "id": "8095263f-914c-4984-a0c0-79a50f193279",
   "metadata": {},
   "outputs": [],
   "source": []
  },
  {
   "cell_type": "code",
   "execution_count": null,
   "id": "143a8bce-9830-4507-9a8f-7333589a9deb",
   "metadata": {},
   "outputs": [],
   "source": []
  },
  {
   "cell_type": "code",
   "execution_count": null,
   "id": "670b160b-9767-4374-b0b2-b3e41edf1b0a",
   "metadata": {},
   "outputs": [],
   "source": []
  },
  {
   "cell_type": "code",
   "execution_count": null,
   "id": "3e74e515-e58a-47c2-9130-a9127bfaf969",
   "metadata": {},
   "outputs": [],
   "source": []
  },
  {
   "cell_type": "code",
   "execution_count": null,
   "id": "f66c8b70-0793-48bd-88ad-3afaef3bd844",
   "metadata": {},
   "outputs": [],
   "source": []
  },
  {
   "cell_type": "code",
   "execution_count": null,
   "id": "02c303a4-f55f-408d-bb87-b4c406cc7672",
   "metadata": {},
   "outputs": [],
   "source": []
  },
  {
   "cell_type": "code",
   "execution_count": null,
   "id": "952201a2-f263-442e-9ef9-550549e82dba",
   "metadata": {},
   "outputs": [],
   "source": []
  },
  {
   "cell_type": "code",
   "execution_count": 20,
   "id": "eb686870-ab76-4787-875c-90114387b4bb",
   "metadata": {},
   "outputs": [
    {
     "data": {
      "text/plain": [
       "['type_of_work',\n",
       " 'education_level',\n",
       " 'marital_status',\n",
       " 'ocupation',\n",
       " 'type_of_relationship',\n",
       " 'type_of_race',\n",
       " 'sex',\n",
       " 'native_country',\n",
       " 'ernings_flag']"
      ]
     },
     "execution_count": 20,
     "metadata": {},
     "output_type": "execute_result"
    }
   ],
   "source": [
    "categorical_features = df.dtypes.sort_values()\n",
    "categorical_features = categorical_features[categorical_features == \"object\"]\n",
    "categorical_features = categorical_features.index.tolist()\n",
    "categorical_features"
   ]
  },
  {
   "cell_type": "code",
   "execution_count": 22,
   "id": "adbdba7d-2f6d-4187-8517-e5aef85b90ff",
   "metadata": {},
   "outputs": [
    {
     "name": "stdout",
     "output_type": "stream",
     "text": [
      "========================================================================================================================\n",
      "Unique values of column type_of_work\n"
     ]
    },
    {
     "data": {
      "text/plain": [
       "['State-gov',\n",
       " 'Self-emp-not-inc',\n",
       " 'Private',\n",
       " 'Federal-gov',\n",
       " 'Local-gov',\n",
       " '?',\n",
       " 'Self-emp-inc',\n",
       " 'Without-pay',\n",
       " 'Never-worked']"
      ]
     },
     "metadata": {},
     "output_type": "display_data"
    },
    {
     "name": "stdout",
     "output_type": "stream",
     "text": [
      "========================================================================================================================\n",
      "Unique values of column education_level\n"
     ]
    },
    {
     "data": {
      "text/plain": [
       "['Bachelors',\n",
       " 'HS-grad',\n",
       " '11th',\n",
       " 'Masters',\n",
       " '9th',\n",
       " 'Some-college',\n",
       " 'Assoc-acdm',\n",
       " 'Assoc-voc',\n",
       " '7th-8th',\n",
       " 'Doctorate',\n",
       " 'Prof-school',\n",
       " '5th-6th',\n",
       " '10th',\n",
       " '1st-4th',\n",
       " 'Preschool',\n",
       " '12th']"
      ]
     },
     "metadata": {},
     "output_type": "display_data"
    },
    {
     "name": "stdout",
     "output_type": "stream",
     "text": [
      "========================================================================================================================\n",
      "Unique values of column marital_status\n"
     ]
    },
    {
     "data": {
      "text/plain": [
       "['Never-married',\n",
       " 'Married-civ-spouse',\n",
       " 'Divorced',\n",
       " 'Married-spouse-absent',\n",
       " 'Separated',\n",
       " 'Married-AF-spouse',\n",
       " 'Widowed']"
      ]
     },
     "metadata": {},
     "output_type": "display_data"
    },
    {
     "name": "stdout",
     "output_type": "stream",
     "text": [
      "========================================================================================================================\n",
      "Unique values of column ocupation\n"
     ]
    },
    {
     "data": {
      "text/plain": [
       "['Adm-clerical',\n",
       " 'Exec-managerial',\n",
       " 'Handlers-cleaners',\n",
       " 'Prof-specialty',\n",
       " 'Other-service',\n",
       " 'Sales',\n",
       " 'Craft-repair',\n",
       " 'Transport-moving',\n",
       " 'Farming-fishing',\n",
       " 'Machine-op-inspct',\n",
       " 'Tech-support',\n",
       " '?',\n",
       " 'Protective-serv',\n",
       " 'Armed-Forces',\n",
       " 'Priv-house-serv']"
      ]
     },
     "metadata": {},
     "output_type": "display_data"
    },
    {
     "name": "stdout",
     "output_type": "stream",
     "text": [
      "========================================================================================================================\n",
      "Unique values of column type_of_relationship\n"
     ]
    },
    {
     "data": {
      "text/plain": [
       "['Not-in-family',\n",
       " 'Husband',\n",
       " 'Wife',\n",
       " 'Own-child',\n",
       " 'Unmarried',\n",
       " 'Other-relative']"
      ]
     },
     "metadata": {},
     "output_type": "display_data"
    },
    {
     "name": "stdout",
     "output_type": "stream",
     "text": [
      "========================================================================================================================\n",
      "Unique values of column type_of_race\n"
     ]
    },
    {
     "data": {
      "text/plain": [
       "['White', 'Black', 'Asian-Pac-Islander', 'Amer-Indian-Eskimo', 'Other']"
      ]
     },
     "metadata": {},
     "output_type": "display_data"
    },
    {
     "name": "stdout",
     "output_type": "stream",
     "text": [
      "========================================================================================================================\n",
      "Unique values of column sex\n"
     ]
    },
    {
     "data": {
      "text/plain": [
       "['Male', 'Female', '?']"
      ]
     },
     "metadata": {},
     "output_type": "display_data"
    },
    {
     "name": "stdout",
     "output_type": "stream",
     "text": [
      "========================================================================================================================\n",
      "Unique values of column native_country\n"
     ]
    },
    {
     "data": {
      "text/plain": [
       "['United-States',\n",
       " 'Cuba',\n",
       " 'Jamaica',\n",
       " 'India',\n",
       " '?',\n",
       " 'Mexico',\n",
       " 'South',\n",
       " 'Puerto-Rico',\n",
       " 'Honduras',\n",
       " 'England',\n",
       " 'Canada',\n",
       " 'Germany',\n",
       " 'Iran',\n",
       " 'Philippines',\n",
       " 'Italy',\n",
       " 'Poland',\n",
       " 'Columbia',\n",
       " 'Cambodia',\n",
       " 'Thailand',\n",
       " 'Ecuador',\n",
       " 'Laos',\n",
       " 'Taiwan',\n",
       " 'Haiti',\n",
       " 'Portugal',\n",
       " 'Dominican-Republic',\n",
       " 'El-Salvador',\n",
       " 'France',\n",
       " 'Guatemala',\n",
       " 'China',\n",
       " 'Japan',\n",
       " 'Yugoslavia',\n",
       " 'Peru',\n",
       " 'Outlying-US(Guam-USVI-etc)',\n",
       " 'Scotland',\n",
       " 'Trinadad&Tobago',\n",
       " 'Greece',\n",
       " 'Nicaragua',\n",
       " 'Vietnam',\n",
       " 'Hong',\n",
       " 'Ireland',\n",
       " 'Hungary',\n",
       " 'Holand-Netherlands']"
      ]
     },
     "metadata": {},
     "output_type": "display_data"
    },
    {
     "name": "stdout",
     "output_type": "stream",
     "text": [
      "========================================================================================================================\n",
      "Unique values of column ernings_flag\n"
     ]
    },
    {
     "data": {
      "text/plain": [
       "['<=50K', '>50K']"
      ]
     },
     "metadata": {},
     "output_type": "display_data"
    }
   ],
   "source": [
    "for col in categorical_features:\n",
    "    print(\"=\"*120)\n",
    "    print(f\"Unique values of column {col}\")\n",
    "    display(df[col].unique().tolist())"
   ]
  },
  {
   "cell_type": "code",
   "execution_count": 41,
   "id": "22233488-0c52-4047-8edb-2301e753afc3",
   "metadata": {},
   "outputs": [
    {
     "data": {
      "text/html": [
       "<div>\n",
       "<style scoped>\n",
       "    .dataframe tbody tr th:only-of-type {\n",
       "        vertical-align: middle;\n",
       "    }\n",
       "\n",
       "    .dataframe tbody tr th {\n",
       "        vertical-align: top;\n",
       "    }\n",
       "\n",
       "    .dataframe thead th {\n",
       "        text-align: right;\n",
       "    }\n",
       "</style>\n",
       "<table border=\"1\" class=\"dataframe\">\n",
       "  <thead>\n",
       "    <tr style=\"text-align: right;\">\n",
       "      <th></th>\n",
       "      <th>mean_target</th>\n",
       "      <th>count</th>\n",
       "    </tr>\n",
       "    <tr>\n",
       "      <th>ocupation</th>\n",
       "      <th></th>\n",
       "      <th></th>\n",
       "    </tr>\n",
       "  </thead>\n",
       "  <tbody>\n",
       "    <tr>\n",
       "      <th>Priv-house-serv</th>\n",
       "      <td>0.006711</td>\n",
       "      <td>149</td>\n",
       "    </tr>\n",
       "    <tr>\n",
       "      <th>Other-service</th>\n",
       "      <td>0.041578</td>\n",
       "      <td>3295</td>\n",
       "    </tr>\n",
       "    <tr>\n",
       "      <th>Handlers-cleaners</th>\n",
       "      <td>0.062774</td>\n",
       "      <td>1370</td>\n",
       "    </tr>\n",
       "    <tr>\n",
       "      <th>?</th>\n",
       "      <td>0.103635</td>\n",
       "      <td>1843</td>\n",
       "    </tr>\n",
       "    <tr>\n",
       "      <th>Armed-Forces</th>\n",
       "      <td>0.111111</td>\n",
       "      <td>9</td>\n",
       "    </tr>\n",
       "    <tr>\n",
       "      <th>Farming-fishing</th>\n",
       "      <td>0.115694</td>\n",
       "      <td>994</td>\n",
       "    </tr>\n",
       "    <tr>\n",
       "      <th>Machine-op-inspct</th>\n",
       "      <td>0.124875</td>\n",
       "      <td>2002</td>\n",
       "    </tr>\n",
       "    <tr>\n",
       "      <th>Adm-clerical</th>\n",
       "      <td>0.134483</td>\n",
       "      <td>3770</td>\n",
       "    </tr>\n",
       "    <tr>\n",
       "      <th>Transport-moving</th>\n",
       "      <td>0.200376</td>\n",
       "      <td>1597</td>\n",
       "    </tr>\n",
       "    <tr>\n",
       "      <th>Craft-repair</th>\n",
       "      <td>0.226641</td>\n",
       "      <td>4099</td>\n",
       "    </tr>\n",
       "    <tr>\n",
       "      <th>Sales</th>\n",
       "      <td>0.269315</td>\n",
       "      <td>3650</td>\n",
       "    </tr>\n",
       "    <tr>\n",
       "      <th>Tech-support</th>\n",
       "      <td>0.304957</td>\n",
       "      <td>928</td>\n",
       "    </tr>\n",
       "    <tr>\n",
       "      <th>Protective-serv</th>\n",
       "      <td>0.325116</td>\n",
       "      <td>649</td>\n",
       "    </tr>\n",
       "    <tr>\n",
       "      <th>Prof-specialty</th>\n",
       "      <td>0.449034</td>\n",
       "      <td>4140</td>\n",
       "    </tr>\n",
       "    <tr>\n",
       "      <th>Exec-managerial</th>\n",
       "      <td>0.484014</td>\n",
       "      <td>4066</td>\n",
       "    </tr>\n",
       "  </tbody>\n",
       "</table>\n",
       "</div>"
      ],
      "text/plain": [
       "                   mean_target  count\n",
       "ocupation                            \n",
       "Priv-house-serv       0.006711    149\n",
       "Other-service         0.041578   3295\n",
       "Handlers-cleaners     0.062774   1370\n",
       "?                     0.103635   1843\n",
       "Armed-Forces          0.111111      9\n",
       "Farming-fishing       0.115694    994\n",
       "Machine-op-inspct     0.124875   2002\n",
       "Adm-clerical          0.134483   3770\n",
       "Transport-moving      0.200376   1597\n",
       "Craft-repair          0.226641   4099\n",
       "Sales                 0.269315   3650\n",
       "Tech-support          0.304957    928\n",
       "Protective-serv       0.325116    649\n",
       "Prof-specialty        0.449034   4140\n",
       "Exec-managerial       0.484014   4066"
      ]
     },
     "execution_count": 41,
     "metadata": {},
     "output_type": "execute_result"
    }
   ],
   "source": [
    "df\\\n",
    ".groupby(\"ocupation\")\\\n",
    ".agg(\n",
    "    mean_target = (\n",
    "        \"ernings_flag\",\n",
    "        lambda x: (x == \">50K\").mean()\n",
    "    ),\n",
    "    count = (\n",
    "        \"ernings_flag\",\n",
    "        len\n",
    "    )\n",
    ")\\\n",
    ".sort_values(\"mean_target\")"
   ]
  }
 ],
 "metadata": {
  "kernelspec": {
   "display_name": "Python 3 (ipykernel)",
   "language": "python",
   "name": "python3"
  },
  "language_info": {
   "codemirror_mode": {
    "name": "ipython",
    "version": 3
   },
   "file_extension": ".py",
   "mimetype": "text/x-python",
   "name": "python",
   "nbconvert_exporter": "python",
   "pygments_lexer": "ipython3",
   "version": "3.12.1"
  }
 },
 "nbformat": 4,
 "nbformat_minor": 5
}
